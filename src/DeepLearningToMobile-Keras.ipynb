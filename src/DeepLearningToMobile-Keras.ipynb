{
 "cells": [
  {
   "cell_type": "code",
   "execution_count": 17,
   "metadata": {},
   "outputs": [
    {
     "name": "stdout",
     "output_type": "stream",
     "text": [
      "_________________________________________________________________\n",
      "Layer (type)                 Output Shape              Param #   \n",
      "=================================================================\n",
      "dense (Dense)                (None, 10)                30        \n",
      "_________________________________________________________________\n",
      "dense_1 (Dense)              (None, 2)                 22        \n",
      "_________________________________________________________________\n",
      "dense_2 (Dense)              (None, 3)                 9         \n",
      "_________________________________________________________________\n",
      "activation (Activation)      (None, 3)                 0         \n",
      "=================================================================\n",
      "Total params: 61\n",
      "Trainable params: 61\n",
      "Non-trainable params: 0\n",
      "_________________________________________________________________\n",
      "Train on 6 samples, validate on 6 samples\n",
      "Epoch 1/10\n",
      "6/6 [==============================] - 0s 57ms/step - loss: 1.1012 - acc: 0.5000 - val_loss: 1.0935 - val_acc: 0.5000\n",
      "Epoch 2/10\n",
      "6/6 [==============================] - 0s 975us/step - loss: 1.0917 - acc: 0.5000 - val_loss: 1.0889 - val_acc: 0.5000\n",
      "Epoch 3/10\n",
      "6/6 [==============================] - 0s 919us/step - loss: 1.0885 - acc: 0.5000 - val_loss: 1.0840 - val_acc: 0.5000\n",
      "Epoch 4/10\n",
      "6/6 [==============================] - 0s 976us/step - loss: 1.0827 - acc: 0.5000 - val_loss: 1.0796 - val_acc: 0.5000\n",
      "Epoch 5/10\n",
      "6/6 [==============================] - 0s 968us/step - loss: 1.0781 - acc: 0.5000 - val_loss: 1.0755 - val_acc: 0.5000\n",
      "Epoch 6/10\n",
      "6/6 [==============================] - 0s 961us/step - loss: 1.0743 - acc: 0.5000 - val_loss: 1.0714 - val_acc: 0.5000\n",
      "Epoch 7/10\n",
      "6/6 [==============================] - 0s 939us/step - loss: 1.0712 - acc: 0.5000 - val_loss: 1.0675 - val_acc: 0.5000\n",
      "Epoch 8/10\n",
      "6/6 [==============================] - 0s 939us/step - loss: 1.0664 - acc: 0.5000 - val_loss: 1.0639 - val_acc: 0.5000\n",
      "Epoch 9/10\n",
      "6/6 [==============================] - 0s 912us/step - loss: 1.0637 - acc: 0.5000 - val_loss: 1.0603 - val_acc: 0.5000\n",
      "Epoch 10/10\n",
      "6/6 [==============================] - 0s 982us/step - loss: 1.0602 - acc: 0.5000 - val_loss: 1.0571 - val_acc: 0.5000\n"
     ]
    }
   ],
   "source": [
    "import numpy as np\n",
    "import tensorflow as tf\n",
    "# from keras.models import Sequential\n",
    "# from keras.layers import Bidirectional, TimeDistributed, Concatenate, LSTM, Dense, Dropout, Flatten, Activation, BatchNormalization\n",
    "x_data = np.array(\n",
    "    [[0, 0], [1, 0], [1, 1], [0, 0], [0, 0], [0, 1]])\n",
    "\n",
    "y_data = np.array([\n",
    "    [1, 0, 0], \n",
    "    [0, 1, 0],  \n",
    "    [0, 0, 1],  \n",
    "    [1, 0, 0],\n",
    "    [1, 0, 0],\n",
    "    [0, 0, 1]\n",
    "])\n",
    "\n",
    "model = tf.keras.models.Sequential()\n",
    "model.add(tf.keras.layers.Dense(10, input_dim=2,activation=\"relu\"))\n",
    "model.add(tf.keras.layers.Dense(2, activation=\"relu\", kernel_initializer=\"uniform\"))\n",
    "model.add(tf.keras.layers.Dense(3))\n",
    "model.add(tf.keras.layers.Activation(\"softmax\"))\n",
    "\n",
    "\n",
    "adam = tf.keras.optimizers.Adam(lr=0.01)\n",
    "\n",
    "model.compile(loss='categorical_crossentropy', optimizer=adam, metrics=['accuracy'])\n",
    "model.summary()\n",
    "\n",
    "reult = model.fit(x_data, y_data, shuffle=True, epochs=10, batch_size=2, validation_data=(x_data, y_data))"
   ]
  },
  {
   "cell_type": "code",
   "execution_count": 8,
   "metadata": {},
   "outputs": [
    {
     "name": "stdout",
     "output_type": "stream",
     "text": [
      "0 : dense_13_input, <keras.engine.topology.InputLayer object at 0x7efdf2ce39d0>\n",
      "1 : dense_13, <keras.layers.core.Dense object at 0x7efdf2ce3810>\n",
      "2 : dense_13__activation__, <keras.layers.core.Activation object at 0x7efdee28f1d0>\n",
      "3 : dense_14, <keras.layers.core.Dense object at 0x7efdf2ce3850>\n",
      "4 : dense_14__activation__, <keras.layers.core.Activation object at 0x7efdee28f250>\n",
      "5 : dense_15, <keras.layers.core.Dense object at 0x7efdf2ce3a50>\n",
      "6 : activation_5, <keras.layers.core.Activation object at 0x7efdee7ccd50>\n"
     ]
    }
   ],
   "source": [
    "import coremltools\n",
    "\n",
    "coreml_model = coremltools.converters.keras.convert(model)\n",
    "coreml_model.save('FFNN.mlmodel')"
   ]
  },
  {
   "cell_type": "code",
   "execution_count": 19,
   "metadata": {},
   "outputs": [
    {
     "name": "stdout",
     "output_type": "stream",
     "text": [
      "INFO:tensorflow:Froze 6 variables.\n"
     ]
    },
    {
     "name": "stderr",
     "output_type": "stream",
     "text": [
      "INFO:tensorflow:Froze 6 variables.\n"
     ]
    },
    {
     "name": "stdout",
     "output_type": "stream",
     "text": [
      "INFO:tensorflow:Converted 6 variables to const ops.\n"
     ]
    },
    {
     "name": "stderr",
     "output_type": "stream",
     "text": [
      "INFO:tensorflow:Converted 6 variables to const ops.\n"
     ]
    }
   ],
   "source": [
    "keras_file = \"FFNN.h5\"\n",
    "tf.keras.models.save_model(model, keras_file)\n",
    "\n",
    "converter = tf.contrib.lite.TocoConverter.from_keras_model_file(keras_file)\n",
    "tflite_model = converter.convert()\n",
    "open(\"FFNN.tflite\", \"wb\").write(tflite_model)"
   ]
  },
  {
   "cell_type": "code",
   "execution_count": 12,
   "metadata": {},
   "outputs": [
    {
     "name": "stdout",
     "output_type": "stream",
     "text": [
      "INFO:tensorflow:Froze 73 variables.\n"
     ]
    },
    {
     "name": "stderr",
     "output_type": "stream",
     "text": [
      "INFO:tensorflow:Froze 73 variables.\n"
     ]
    },
    {
     "name": "stdout",
     "output_type": "stream",
     "text": [
      "INFO:tensorflow:Converted 73 variables to const ops.\n"
     ]
    },
    {
     "name": "stderr",
     "output_type": "stream",
     "text": [
      "INFO:tensorflow:Converted 73 variables to const ops.\n"
     ]
    },
    {
     "data": {
      "text/plain": [
       "'/FFNN.pb'"
      ]
     },
     "execution_count": 12,
     "metadata": {},
     "output_type": "execute_result"
    }
   ],
   "source": [
    "import tensorflow as tf\n",
    "from keras import backend as K\n",
    "\n",
    "frozen_graph = freeze_session(K.get_session(),\n",
    "                              output_names=[out.op.name for out in model.outputs])\n",
    "\n",
    "tf.train.write_graph(frozen_graph, \"/\", \"FFNN.pb\", as_text=False)\n",
    "\n"
   ]
  },
  {
   "cell_type": "code",
   "execution_count": null,
   "metadata": {},
   "outputs": [],
   "source": []
  }
 ],
 "metadata": {
  "kernelspec": {
   "display_name": "Python 3",
   "language": "python",
   "name": "python3"
  },
  "language_info": {
   "codemirror_mode": {
    "name": "ipython",
    "version": 2
   },
   "file_extension": ".py",
   "mimetype": "text/x-python",
   "name": "python",
   "nbconvert_exporter": "python",
   "pygments_lexer": "ipython2",
   "version": "2.7.12"
  }
 },
 "nbformat": 4,
 "nbformat_minor": 2
}

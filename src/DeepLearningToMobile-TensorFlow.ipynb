{
 "cells": [
  {
   "cell_type": "code",
   "execution_count": 1,
   "metadata": {},
   "outputs": [
    {
     "name": "stderr",
     "output_type": "stream",
     "text": [
      "/usr/local/lib/python2.7/dist-packages/h5py/__init__.py:36: FutureWarning: Conversion of the second argument of issubdtype from `float` to `np.floating` is deprecated. In future, it will be treated as `np.float64 == np.dtype(float).type`.\n",
      "  from ._conv import register_converters as _register_converters\n"
     ]
    },
    {
     "name": "stdout",
     "output_type": "stream",
     "text": [
      "(30, 0.5361519)\n",
      "Accuracy: 100.00\n"
     ]
    }
   ],
   "source": [
    "import tensorflow as tf\n",
    "import numpy as np\n",
    "\n",
    "x_data = np.array(\n",
    "    [[0, 0], [1, 0], [1, 1], [0, 0], [0, 0], [0, 1]])\n",
    "\n",
    "y_data = np.array([\n",
    "    [1, 0, 0], \n",
    "    [0, 1, 0],  \n",
    "    [0, 0, 1],  \n",
    "    [1, 0, 0],\n",
    "    [1, 0, 0],\n",
    "    [0, 0, 1]\n",
    "])\n",
    "\n",
    "global_step = tf.Variable(0, trainable=False, name='global_step')\n",
    "X = tf.placeholder(tf.float32, name='Input')\n",
    "Y = tf.placeholder(tf.float32, name='Output')\n",
    "\n",
    "with tf.name_scope('layer1'):\n",
    "    W1 = tf.Variable(tf.random_uniform([2, 10], -1., 1.), name='W1')\n",
    "    b1 = tf.Variable(tf.zeros([10]), name='b1')\n",
    "    L1 = tf.add(tf.matmul(X, W1), b1, name='L1')\n",
    "    L1 = tf.nn.relu(L1)\n",
    "    \n",
    "with tf.name_scope('layer2'):\n",
    "    W2 = tf.Variable(tf.random_uniform([10, 3], -1., 1.), name='W2')\n",
    "    b2 = tf.Variable(tf.zeros([3]), name='b2')\n",
    "    model = tf.add(tf.matmul(L1, W2), b2, name='model')\n",
    "    prediction = tf.argmax(model, 1, name='prediction')\n",
    "\n",
    "cost = tf.reduce_mean(tf.nn.softmax_cross_entropy_with_logits_v2(labels=Y, logits=model), name='cost')\n",
    "optimizer = tf.train.AdamOptimizer(learning_rate=0.01, name='optimizer')\n",
    "train_op = optimizer.minimize(cost, global_step=global_step)\n",
    "\n",
    "init = tf.global_variables_initializer()\n",
    "sess = tf.Session()\n",
    "sess.run(init)\n",
    "\n",
    "saver = tf.train.Saver(tf.global_variables())\n",
    "merged = tf.summary.merge_all()\n",
    "writer = tf.summary.FileWriter('./logs', sess.graph)\n",
    "\n",
    "for step in range(30):\n",
    "    sess.run(train_op, feed_dict={X: x_data, Y: y_data})\n",
    "\n",
    "    if (step + 1) % 30 == 0:\n",
    "        print(step + 1, sess.run(cost, feed_dict={X: x_data, Y: y_data}))\n",
    "        tf.train.write_graph(sess.graph_def, '.', './model/FFNN.pbtxt')  \n",
    "        saver.save(sess, './model/FFNN.ckpt', global_step=global_step)\n",
    "        break\n",
    "        \n",
    "target = tf.argmax(Y, 1)\n",
    "is_correct = tf.equal(prediction, target)\n",
    "accuracy = tf.reduce_mean(tf.cast(is_correct, tf.float32))\n",
    "print('Accuracy: %.2f' % sess.run(accuracy * 100, feed_dict={X: x_data, Y: y_data}))"
   ]
  },
  {
   "cell_type": "code",
   "execution_count": 14,
   "metadata": {},
   "outputs": [
    {
     "name": "stdout",
     "output_type": "stream",
     "text": [
      "INFO:tensorflow:Restoring parameters from model/FFNN.ckpt-30\n"
     ]
    },
    {
     "name": "stderr",
     "output_type": "stream",
     "text": [
      "INFO:tensorflow:Restoring parameters from model/FFNN.ckpt-30\n"
     ]
    },
    {
     "name": "stdout",
     "output_type": "stream",
     "text": [
      "INFO:tensorflow:Froze 4 variables.\n"
     ]
    },
    {
     "name": "stderr",
     "output_type": "stream",
     "text": [
      "INFO:tensorflow:Froze 4 variables.\n"
     ]
    },
    {
     "name": "stdout",
     "output_type": "stream",
     "text": [
      "Converted 4 variables to const ops.\n"
     ]
    }
   ],
   "source": [
    "from tensorflow.python.tools import freeze_graph\n",
    "\n",
    "freeze_graph.freeze_graph(\"model/FFNN.pbtxt\", \"\",\n",
    "                          False, \"model/FFNN.ckpt-30\", \"layer2/prediction\",\n",
    "                          \"\", \"\",\n",
    "                          \"FFNN_frozen_graph.pb\", True, \"\")"
   ]
  },
  {
   "cell_type": "code",
   "execution_count": 15,
   "metadata": {},
   "outputs": [],
   "source": [
    "def load_graph(frozen_graph_filename):\n",
    "    with tf.gfile.GFile(frozen_graph_filename, \"rb\") as f:\n",
    "        graph_def = tf.GraphDef()\n",
    "        graph_def.ParseFromString(f.read())\n",
    "\n",
    "    with tf.Graph().as_default() as graph:\n",
    "        tf.import_graph_def(graph_def, name=\"\")\n",
    "\n",
    "    return graph"
   ]
  },
  {
   "cell_type": "code",
   "execution_count": 16,
   "metadata": {},
   "outputs": [
    {
     "name": "stdout",
     "output_type": "stream",
     "text": [
      "Input\n",
      "layer1/W1\n",
      "layer1/W1/read\n",
      "layer1/b1\n",
      "layer1/b1/read\n",
      "layer1/MatMul\n",
      "layer1/L1\n",
      "layer1/Relu\n",
      "layer2/W2\n",
      "layer2/W2/read\n",
      "layer2/b2\n",
      "layer2/b2/read\n",
      "layer2/MatMul\n",
      "layer2/model\n",
      "layer2/prediction/dimension\n",
      "layer2/prediction\n"
     ]
    }
   ],
   "source": [
    "graph = load_graph('FFNN_frozen_graph.pb')\n",
    "\n",
    "for op in graph.get_operations():\n",
    "    print(op.name)"
   ]
  },
  {
   "cell_type": "code",
   "execution_count": 20,
   "metadata": {},
   "outputs": [
    {
     "name": "stdout",
     "output_type": "stream",
     "text": [
      "Shapes not found for 7 tensors. Executing graph to determine shapes. \n",
      "1/16: Analysing op name: layer2/prediction/dimension ( type:  Const )\n",
      "2/16: Analysing op name: layer2/b2 ( type:  Const )\n",
      "3/16: Analysing op name: layer2/b2/read ( type:  Identity )\n",
      "4/16: Analysing op name: layer2/W2 ( type:  Const )\n",
      "5/16: Analysing op name: layer2/W2/read ( type:  Identity )\n",
      "6/16: Analysing op name: layer1/b1 ( type:  Const )\n",
      "7/16: Analysing op name: layer1/b1/read ( type:  Identity )\n",
      "8/16: Analysing op name: layer1/W1 ( type:  Const )\n",
      "9/16: Analysing op name: layer1/W1/read ( type:  Identity )\n",
      "10/16: Analysing op name: Input ( type:  Placeholder )\n",
      "Skipping name of placeholder\n",
      "11/16: Analysing op name: layer1/MatMul ( type:  MatMul )\n",
      "12/16: Analysing op name: layer1/L1 ( type:  Add )\n",
      "13/16: Analysing op name: layer1/Relu ( type:  Relu )\n",
      "14/16: Analysing op name: layer2/MatMul ( type:  MatMul )\n",
      "15/16: Analysing op name: layer2/model ( type:  Add )\n",
      "16/16: Analysing op name: layer2/prediction ( type:  ArgMax )\n",
      "\n",
      " Core ML model generated. Saved at location: FFNN.mlmodel \n",
      "\n",
      "Core ML input(s): \n",
      " [name: \"Input__0\"\n",
      "type {\n",
      "  multiArrayType {\n",
      "    shape: 2\n",
      "    dataType: DOUBLE\n",
      "  }\n",
      "}\n",
      "]\n",
      "Core ML output(s): \n",
      " [name: \"layer2__prediction__0\"\n",
      "type {\n",
      "  multiArrayType {\n",
      "    shape: 1\n",
      "    shape: 1\n",
      "    shape: 1\n",
      "    dataType: DOUBLE\n",
      "  }\n",
      "}\n",
      "]\n"
     ]
    }
   ],
   "source": [
    "import tfcoreml\n",
    "\n",
    "mlmodel = tfcoreml.convert(\n",
    "        tf_model_path = 'FFNN_frozen_graph.pb',\n",
    "        mlmodel_path = 'FFNN.mlmodel',\n",
    "        output_feature_names = ['layer2/prediction:0'],\n",
    "        input_name_shape_dict = {'Input:0': [1, 2]})"
   ]
  },
  {
   "cell_type": "code",
   "execution_count": 26,
   "metadata": {},
   "outputs": [
    {
     "ename": "AttributeError",
     "evalue": "'module' object has no attribute 'TocoConverter'",
     "output_type": "error",
     "traceback": [
      "\u001b[0;31m\u001b[0m",
      "\u001b[0;31mAttributeError\u001b[0mTraceback (most recent call last)",
      "\u001b[0;32m<ipython-input-26-44ca76f91deb>\u001b[0m in \u001b[0;36m<module>\u001b[0;34m()\u001b[0m\n\u001b[1;32m      5\u001b[0m \u001b[0moutput_arrays\u001b[0m \u001b[0;34m=\u001b[0m \u001b[0;34m[\u001b[0m\u001b[0;34m\"layer2/prediction\"\u001b[0m\u001b[0;34m]\u001b[0m\u001b[0;34m\u001b[0m\u001b[0m\n\u001b[1;32m      6\u001b[0m \u001b[0;34m\u001b[0m\u001b[0m\n\u001b[0;32m----> 7\u001b[0;31m converter = tf.contrib.lite.TocoConverter.from_frozen_graph(\n\u001b[0m\u001b[1;32m      8\u001b[0m   graph_def_file, input_arrays, output_arrays)\n\u001b[1;32m      9\u001b[0m \u001b[0mtflite_model\u001b[0m \u001b[0;34m=\u001b[0m \u001b[0mconverter\u001b[0m\u001b[0;34m.\u001b[0m\u001b[0mconvert\u001b[0m\u001b[0;34m(\u001b[0m\u001b[0;34m)\u001b[0m\u001b[0;34m\u001b[0m\u001b[0m\n",
      "\u001b[0;31mAttributeError\u001b[0m: 'module' object has no attribute 'TocoConverter'"
     ]
    }
   ],
   "source": [
    "import tensorflow as tf\n",
    "\n",
    "graph_def_file = \"FFNN_frozen_graph.pb\"\n",
    "input_arrays = [\"Input\"]\n",
    "output_arrays = [\"layer2/prediction\"]\n",
    "\n",
    "converter = tf.contrib.lite.TocoConverter.from_frozen_graph(\n",
    "  graph_def_file, input_arrays, output_arrays)\n",
    "tflite_model = converter.convert()\n",
    "open(\"FFNN.tflite\", \"wb\").write(tflite_model)"
   ]
  },
  {
   "cell_type": "code",
   "execution_count": null,
   "metadata": {},
   "outputs": [],
   "source": []
  }
 ],
 "metadata": {
  "kernelspec": {
   "display_name": "Python 3",
   "language": "python",
   "name": "python3"
  },
  "language_info": {
   "codemirror_mode": {
    "name": "ipython",
    "version": 2
   },
   "file_extension": ".py",
   "mimetype": "text/x-python",
   "name": "python",
   "nbconvert_exporter": "python",
   "pygments_lexer": "ipython2",
   "version": "2.7.12"
  }
 },
 "nbformat": 4,
 "nbformat_minor": 2
}
